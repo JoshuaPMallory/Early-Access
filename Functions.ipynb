{
 "cells": [
  {
   "cell_type": "markdown",
   "metadata": {},
   "source": [
    "# Functions\n",
    "\n",
    "---"
   ]
  },
  {
   "cell_type": "code",
   "execution_count": null,
   "metadata": {},
   "outputs": [],
   "source": [
    "# Changes a google drive link into something usable\n",
    "\n",
    "def google_drive_useable(link):\n",
    "    return link.replace('/open?', '/uc?')"
   ]
  },
  {
   "cell_type": "code",
   "execution_count": null,
   "metadata": {},
   "outputs": [],
   "source": [
    "# A way to get my metrics all in one place.\n",
    "\n",
    "def cat_prediction_results(y_train\n",
    "                          ,y_val\n",
    "                          ,train_y_pred\n",
    "                          ,val_y_pred\n",
    "                          ,cat_target    = y_train.unique()[0]\n",
    "                          ,sort_by       = 'prediction'\n",
    "                                                              ):\n",
    "    \n",
    "    from sklearn.metrics import accuracy_score, precision_score, recall_score\n",
    "\n",
    "    \n",
    "    metrics     = {accuracy_score:  'Accuracy'\n",
    "                  ,precision_score: 'Precision'\n",
    "                  ,recall_score:    'Recall'\n",
    "                  }\n",
    "    \n",
    "    base_y_pred = [cat_target] * len(y_train)\n",
    "    \n",
    "    predictions = [['Baseline',   y_train,  base_y_pred]\n",
    "                  ,['Training',   y_train, train_y_pred]\n",
    "                  ,['Validation', y_val,     val_y_pred]\n",
    "                  ]\n",
    "    \n",
    "    if sort_by.lower() == 'prediction' or 'predictions':\n",
    "        for prediction in predictions:\n",
    "            for metric in metrics:\n",
    "                if metrics[metric] == 'Accuracy':\n",
    "                    print(prediction[0],  str(metrics[metric]) + ':\\t', metric(prediction[1], prediction[2]))\n",
    "                else:\n",
    "                    print(prediction[0],  str(metrics[metric]) + ':\\t', metric(prediction[1], prediction[2], pos_label = cat_target))\n",
    "            print()\n",
    "    else:\n",
    "        for metric in metrics:\n",
    "            if metrics[metric] == 'Accuracy':\n",
    "                print(\"Baseline\",   metrics[metric], ':\\t', metric(y_train, baseline_y_pred))\n",
    "                print(\"Training\",   metrics[metric], ':\\t', metric(y_train,    train_y_pred))\n",
    "                print(\"Validation\", metrics[metric], ':\\t', metric(y_val,        val_y_pred))\n",
    "            else:\n",
    "                print(\"Baseline\",   metrics[metric], ':\\t', metric(y_train, baseline_y_pred, pos_label = cat_target))\n",
    "                print(\"Training\",   metrics[metric], ':\\t', metric(y_train,    train_y_pred, pos_label = cat_target))\n",
    "                print(\"Validation\", metrics[metric], ':\\t', metric(y_val,        val_y_pred, pos_label = cat_target))\n",
    "            print()\n"
   ]
  },
  {
   "cell_type": "code",
   "execution_count": null,
   "metadata": {},
   "outputs": [],
   "source": []
  }
 ],
 "metadata": {
  "kernelspec": {
   "display_name": "Python 3",
   "language": "python",
   "name": "python3"
  },
  "language_info": {
   "codemirror_mode": {
    "name": "ipython",
    "version": 3
   },
   "file_extension": ".py",
   "mimetype": "text/x-python",
   "name": "python",
   "nbconvert_exporter": "python",
   "pygments_lexer": "ipython3",
   "version": "3.7.5"
  }
 },
 "nbformat": 4,
 "nbformat_minor": 4
}
